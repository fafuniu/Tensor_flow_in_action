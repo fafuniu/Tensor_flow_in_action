{
 "cells": [
  {
   "cell_type": "code",
   "execution_count": 40,
   "metadata": {
    "collapsed": true
   },
   "outputs": [],
   "source": [
    "import glob\n",
    "import os.path\n"
   ]
  },
  {
   "cell_type": "code",
   "execution_count": 41,
   "metadata": {
    "collapsed": true
   },
   "outputs": [],
   "source": [
    "BOTTLENECK_TENSOR_SIZE=2048\n",
    "BOTTLENECK_TENSOR_NAME='pool_3/_reshape:0'\n",
    "JPEG_DATA_TENSOR_NAME='DecodeJpeg/contents:0'\n",
    "\n",
    "MODEL_DIR='./inception_dec_2015/'\n",
    "\n",
    "MODEL_FILE='tensorflow_inception_graph.pb'\n",
    "\n",
    "CACHE_DIR='./'\n",
    "\n",
    "INPUT_DATA='./flower_photos/'\n",
    "\n",
    "VALIDATION_PERCENTAGE=10\n",
    "\n",
    "TEST_PERCENTAGE=10\n",
    "\n",
    "LEARNING_RATE=0.01\n",
    "STEPS=100\n",
    "BATCH=100\n"
   ]
  },
  {
   "cell_type": "code",
   "execution_count": 42,
   "metadata": {
    "collapsed": true
   },
   "outputs": [],
   "source": [
    "def create_image_lists(testing_percentage, validation_percentage):\n",
    "    result={}\n",
    "    sub_dirs=[x[0] for x in os.walk(INPUT_DATA)]\n",
    "    \n",
    "    is_root_dir=True\n",
    "    \n",
    "    for sub_dir in sub_dirs:\n",
    "        if is_root_dir:\n",
    "            is_root_dir=False\n",
    "            continue\n",
    "            \n",
    "        extensions=['jpg','jpeg','JPG',\"JPEG\"]\n",
    "        file_list=[]\n",
    "        \n",
    "        dir_name=os.path.basename(sub_dir)\n",
    "        \n",
    "        for extension in extensions:\n",
    "            file_glob=os.path.join(INPUT_DATA,dir_name,'*.'+extension)\n",
    "            file_list.extend(glob.glob(file_glob))\n",
    "        if not file_list: continue\n",
    "        \n",
    "        label_name=dir_name.lower()\n",
    "        training_images=[]\n",
    "        testing_images=[]\n",
    "        valiation_images=[]\n",
    "        for file_name in file_list:\n",
    "            base_name=os.path.basename(file_name)\n",
    "            chance=np.random.randint(100)\n",
    "            if chance< validation_percentage:\n",
    "                valiation_images.append(base_name)\n",
    "            elif chance< (validation_percentage+testing_percentage):\n",
    "                testing_images.append(base_name)\n",
    "            else:\n",
    "                training_images.append(base_name)\n",
    "        result[label_name]={\n",
    "            'dir':dir_name,\n",
    "            'training':training_images,\n",
    "            \"testing\":testing_images,\n",
    "            \"validation\":valiation_images,\n",
    "        }\n",
    "    return result"
   ]
  },
  {
   "cell_type": "code",
   "execution_count": 43,
   "metadata": {
    "collapsed": true
   },
   "outputs": [],
   "source": [
    "def get_image_path(image_lists, image_dir,label_name,index,category):\n",
    "    \n",
    "    label_lists=image_lists[label_name]\n",
    "    category_list=label_lists[category]\n",
    "    \n",
    "    mod_index=index% len(category_list)\n",
    "    \n",
    "    base_name=category_list[mod_index]\n",
    "    \n",
    "    sub_dir=label_lists['dir']\n",
    "    \n",
    "    full_path=os.path.join(image_dir,sub_dir,base_name)\n",
    "    \n",
    "    return full_path\n",
    "    \n",
    "    "
   ]
  },
  {
   "cell_type": "code",
   "execution_count": 44,
   "metadata": {
    "collapsed": true
   },
   "outputs": [],
   "source": [
    "def get_bottleneck_path(image_lists, label_name, index,category):\n",
    "    return get_image_path(image_lists,CACHE_DIR,label_name,index,category)+\".txt\""
   ]
  },
  {
   "cell_type": "code",
   "execution_count": 45,
   "metadata": {
    "collapsed": true
   },
   "outputs": [],
   "source": [
    "def run_bottleneck_on_image(sess, image_data,image_data_tensor,bottleneck_tensor):\n",
    "    bottleneck_values=sess.run(bottleneck_tensor,{image_data_tensor:image_data})\n",
    "    \n",
    "    bottleneck_values=np.squeeze(bottleneck_values)\n",
    "    \n",
    "    return bottleneck_values"
   ]
  },
  {
   "cell_type": "code",
   "execution_count": 46,
   "metadata": {
    "collapsed": true
   },
   "outputs": [],
   "source": [
    "def get_or_create_bottleneck(sess,image_lists,label_name,index,category,jpeg_data_tensor,bottleneck_tensor):\n",
    "    \n",
    "    label_lists=image_lists[label_name]\n",
    "    sub_dir=label_lists['dir']\n",
    "    \n",
    "    sub_dir_path=os.path.join(CACHE_DIR,sub_dir)\n",
    "    \n",
    "    if not os.path.exists(sub_dir_path):\n",
    "        os.makedirs(sub_dir_path)\n",
    "        \n",
    "    bottleneck_path=get_bottleneck_path(image_lists,label_name,index,category)\n",
    "    \n",
    "    \n",
    "    if not os.path.exists(bottleneck_path):\n",
    "        image_path=get_image_path(image_lists,INPUT_DATA,label_name,index,category)\n",
    "        \n",
    "        image_data=gfile.FastGFile(image_path,'rb').read()\n",
    "        \n",
    "        bottleneck_values=run_bottleneck_on_image(sess,image_data,jpeg_data_tensor,bottleneck_tensor)\n",
    "        \n",
    "        bottleneck_strings=\",\".join(str(x) for x in bottleneck_values)\n",
    "        \n",
    "        with open(bottleneck_path,\"w\") as bottleneck_file:\n",
    "            bottleneck_file.write(bottleneck_strings)\n",
    "            \n",
    "    else:\n",
    "        with open(bottleneck_path,'r') as bottleneck_file:\n",
    "            bottleneck_strings=bottleneck_file.read()\n",
    "        bottleneck_values=[float(x) for x in bottleneck_strings.split(',')]\n",
    "    return bottleneck_values\n",
    "    "
   ]
  },
  {
   "cell_type": "code",
   "execution_count": 47,
   "metadata": {
    "collapsed": true
   },
   "outputs": [],
   "source": [
    "def get_random_catched_bottlenecks(sess,n_classes,image_lists,how_many,category,jpeg_data_tensor,bottleneck_tensor):\n",
    "    \n",
    "    bottlenecks=[]\n",
    "    ground_truths=[]\n",
    "    for _ in range(how_many):\n",
    "        label_index= random.randrange(n_classes)\n",
    "        label_name=list(image_lists.keys())[label_index]\n",
    "        \n",
    "        image_index=random.randrange(65536)\n",
    "        \n",
    "        bottleneck=get_or_create_bottleneck(sess,image_lists,label_name,image_index,category,\n",
    "                                            jpeg_data_tensor,bottleneck_tensor)\n",
    "        \n",
    "        ground_truth=np.zeros(n_classes,dtype=np.float32)\n",
    "        ground_truth[label_index]=1.0\n",
    "        bottlenecks.append(bottleneck)\n",
    "        ground_truths.append(ground_truth)\n",
    "        \n",
    "    return bottlenecks,ground_truths"
   ]
  },
  {
   "cell_type": "code",
   "execution_count": 48,
   "metadata": {},
   "outputs": [],
   "source": [
    "def get_test_bottlenecks(sess,image_lists,n_classes,jpeg_data_tensor,bottleneck_tensor):\n",
    "    \n",
    "    bottlenecks=[]\n",
    "    ground_truths=[]\n",
    "    label_name_list=list(image_lists.keys())\n",
    "    \n",
    "    for label_index,label_name in enumerate(label_name_list):\n",
    "        \n",
    "        category='testing'\n",
    "        \n",
    "        for index, unsued_base_name in enumerate(image_lists[label_name][category]):\n",
    "\n",
    "        \n",
    "            bottleneck=get_or_create_bottleneck(sess,image_lists,label_name,index,category,\n",
    "                                                jpeg_data_tensor,bottleneck_tensor)\n",
    "\n",
    "            ground_truth=np.zeros(n_classes,dtype=np.float32)\n",
    "            ground_truth[label_index]=1.0\n",
    "            bottlenecks.append(bottleneck)\n",
    "            ground_truths.append(ground_truth)\n",
    "        \n",
    "    return bottlenecks,ground_truths"
   ]
  },
  {
   "cell_type": "code",
   "execution_count": 52,
   "metadata": {},
   "outputs": [
    {
     "name": "stdout",
     "output_type": "stream",
     "text": [
      "Step 0,  validation sampled 100 53.0%\n",
      "Step 99,  validation sampled 100 83.0%\n",
      "Final accuracy83.1%\n"
     ]
    }
   ],
   "source": [
    "\n",
    "#image_lists is a list, elements are dictionary\n",
    "image_lists=create_image_lists(TEST_PERCENTAGE,VALIDATION_PERCENTAGE)\n",
    "\n",
    "n_classes=len(image_lists.keys())\n",
    "\n",
    "with gfile.FastGFile(os.path.join(MODEL_DIR,MODEL_FILE),'rb') as f:\n",
    "    \n",
    "    graph_def=tf.GraphDef()\n",
    "    \n",
    "    graph_def.ParseFromString(f.read())\n",
    "    \n",
    "    bottleneck_tensor,jpeg_data_tensor=tf.import_graph_def(graph_def,\n",
    "                                                           return_elements=[BOTTLENECK_TENSOR_NAME,JPEG_DATA_TENSOR_NAME])\n",
    "    \n",
    "    bottleneck_input=tf.placeholder(tf.float32,[None,BOTTLENECK_TENSOR_SIZE],\n",
    "                                   name='BottlenechInputPlaceholder')\n",
    "    \n",
    "    ground_truth_input=tf.placeholder(tf.float32,[None,n_classes],name='GroundTruthInput')\n",
    "    \n",
    "    with tf.name_scope(\"final_training_ops\"):\n",
    "        weights=tf.Variable(tf.truncated_normal([BOTTLENECK_TENSOR_SIZE,n_classes],stddev=0.001))\n",
    "        biases=tf.Variable(tf.zeros([n_classes]))\n",
    "        logits=tf.matmul(bottleneck_input,weights)+biases\n",
    "        final_tensor=tf.nn.softmax(logits)\n",
    "        \n",
    "    cross_entropy=tf.nn.softmax_cross_entropy_with_logits(logits=logits,labels=ground_truth_input)\n",
    "    \n",
    "    cross_entropy_mean=tf.reduce_mean(cross_entropy)\n",
    "    \n",
    "    train_step=tf.train.GradientDescentOptimizer(LEARNING_RATE).minimize(cross_entropy_mean)\n",
    "    \n",
    "    \n",
    "    with tf.name_scope(\"evaluation\"):\n",
    "        \n",
    "        correct_prdiction=tf.equal(tf.argmax(final_tensor,1),tf.argmax(ground_truth_input,1))\n",
    "        \n",
    "        evaluation_step=tf.reduce_mean(tf.cast(correct_prdiction,tf.float32))\n",
    "        \n",
    "    with tf.Session() as sess:\n",
    "        init=tf.initialize_all_variables()\n",
    "        sess.run(init)\n",
    "        \n",
    "        for i in range(STEPS):\n",
    "            train_bottlenecks,train_ground_truth=get_random_catched_bottlenecks(sess,\n",
    "                                                                               n_classes,\n",
    "                                                                               image_lists,\n",
    "                                                                               BATCH,\n",
    "                                                                               \"training\",\n",
    "                                                                               jpeg_data_tensor,\n",
    "                                                                               bottleneck_tensor)\n",
    "            sess.run(train_step,feed_dict={\n",
    "                bottleneck_input:train_bottlenecks,\n",
    "                ground_truth_input:train_ground_truth\n",
    "            })\n",
    "            \n",
    "            if i%100==0 or i+1==STEPS:\n",
    "                \n",
    "                validation_bottlenecks,validation_ground_truth=get_random_catched_bottlenecks(sess,\n",
    "                                                                                             n_classes,\n",
    "                                                                                             image_lists,\n",
    "                                                                                              BATCH,\n",
    "                                                                                             'validation',\n",
    "                                                                                             jpeg_data_tensor,\n",
    "                                                                                             bottleneck_tensor)\n",
    "                validation_accuracy=sess.run(evaluation_step,\n",
    "                                            feed_dict={\n",
    "                                                bottleneck_input:validation_bottlenecks,\n",
    "                                                ground_truth_input:validation_ground_truth\n",
    "                                            })\n",
    "                print('Step %d,  validation sampled %d %.1f%%'%(i,BATCH,validation_accuracy*100))\n",
    "                \n",
    "        test_bottlenecks,test_ground_truth=get_test_bottlenecks(sess,\n",
    "                                                               image_lists,\n",
    "                                                               n_classes,\n",
    "                                                               jpeg_data_tensor,\n",
    "                                                               bottleneck_tensor)\n",
    "        test_accuracy=sess.run(evaluation_step,\n",
    "                                        feed_dict={\n",
    "                                            bottleneck_input:test_bottlenecks,\n",
    "                                            ground_truth_input:test_ground_truth\n",
    "                                        })\n",
    "        print('Final accuracy%.1f%%'%(test_accuracy*100))\n",
    "    "
   ]
  },
  {
   "cell_type": "code",
   "execution_count": null,
   "metadata": {},
   "outputs": [],
   "source": []
  },
  {
   "cell_type": "code",
   "execution_count": null,
   "metadata": {
    "collapsed": true
   },
   "outputs": [],
   "source": []
  }
 ],
 "metadata": {
  "kernelspec": {
   "display_name": "Python 3",
   "language": "python",
   "name": "python3"
  },
  "language_info": {
   "codemirror_mode": {
    "name": "ipython",
    "version": 3
   },
   "file_extension": ".py",
   "mimetype": "text/x-python",
   "name": "python",
   "nbconvert_exporter": "python",
   "pygments_lexer": "ipython3",
   "version": "3.6.3"
  }
 },
 "nbformat": 4,
 "nbformat_minor": 2
}
